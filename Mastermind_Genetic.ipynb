{
 "cells": [
  {
   "cell_type": "code",
   "execution_count": null,
   "metadata": {},
   "outputs": [],
   "source": [
    "import numpy as np"
   ]
  },
  {
   "cell_type": "code",
   "execution_count": null,
   "metadata": {},
   "outputs": [],
   "source": [
    "class parametres(nCouleurs=8, tailleCombi=8, taillePopulation=100):\n",
    "    \"\"\"docstring for parametres\"\"\"\n",
    "    # Initialisation de l'objet.\n",
    "    def __init__(self): # --------------- #\n",
    "        # Liste des couleurs disponibles.\n",
    "        self.couleurs = np.arange(nCouleurs) \n",
    "        # Taille de la combinaison à trouver.\n",
    "        self.tailleCombi = tailleCombi\n",
    "        # Taille de la Population de départ.\n",
    "        # * Doit être paire *\n",
    "        self.taillePopulation = taillePopulation\n",
    "\n",
    "class combinaison(parametres):\n",
    "    def __init__(self): # ------------------------------------- #\n",
    "        parametres.__init__(self)\n",
    "        # Valeur de la combinaison.\n",
    "        self.mystere =  np.random.randint(parametres.nCouleurs, size=parametres.tailleCombi)\n",
    "        \n",
    "class resolution(parametres):\n",
    "    def __init__(self):\n",
    "        \n",
    "def croisement():\n",
    "    return ...\n",
    "\n",
    "def fitness():\n",
    "    return ...\n",
    "\n",
    "def mutation():\n",
    "    return ...\n"
   ]
  }
 ],
 "metadata": {
  "kernelspec": {
   "display_name": "Python 3",
   "language": "python",
   "name": "python3"
  },
  "language_info": {
   "codemirror_mode": {
    "name": "ipython",
    "version": 3
   },
   "file_extension": ".py",
   "mimetype": "text/x-python",
   "name": "python",
   "nbconvert_exporter": "python",
   "pygments_lexer": "ipython3",
   "version": "3.8.5"
  },
  "toc": {
   "base_numbering": 1,
   "nav_menu": {},
   "number_sections": true,
   "sideBar": true,
   "skip_h1_title": false,
   "title_cell": "Table of Contents",
   "title_sidebar": "Contents",
   "toc_cell": false,
   "toc_position": {},
   "toc_section_display": true,
   "toc_window_display": false
  }
 },
 "nbformat": 4,
 "nbformat_minor": 4
}
